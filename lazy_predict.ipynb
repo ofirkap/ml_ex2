{
 "cells": [
  {
   "cell_type": "code",
   "execution_count": 3,
   "metadata": {},
   "outputs": [
    {
     "name": "stderr",
     "output_type": "stream",
     "text": [
      "100%|██████████| 29/29 [00:43<00:00,  1.51s/it]"
     ]
    },
    {
     "name": "stdout",
     "output_type": "stream",
     "text": [
      "                               Accuracy  Balanced Accuracy  ROC AUC  F1 Score  \\\n",
      "Model                                                                           \n",
      "LGBMClassifier                     0.87               0.79     0.79      0.87   \n",
      "XGBClassifier                      0.87               0.79     0.79      0.86   \n",
      "RandomForestClassifier             0.85               0.77     0.77      0.85   \n",
      "AdaBoostClassifier                 0.86               0.77     0.77      0.85   \n",
      "NearestCentroid                    0.74               0.76     0.76      0.76   \n",
      "ExtraTreesClassifier               0.84               0.76     0.76      0.84   \n",
      "BaggingClassifier                  0.85               0.75     0.75      0.84   \n",
      "DecisionTreeClassifier             0.81               0.75     0.75      0.81   \n",
      "KNeighborsClassifier               0.83               0.74     0.74      0.82   \n",
      "BernoulliNB                        0.80               0.74     0.74      0.80   \n",
      "SVC                                0.85               0.74     0.74      0.84   \n",
      "LabelSpreading                     0.80               0.73     0.73      0.80   \n",
      "LabelPropagation                   0.80               0.73     0.73      0.80   \n",
      "ExtraTreeClassifier                0.80               0.72     0.72      0.80   \n",
      "PassiveAggressiveClassifier        0.72               0.72     0.72      0.74   \n",
      "LogisticRegression                 0.83               0.70     0.70      0.81   \n",
      "CalibratedClassifierCV             0.83               0.70     0.70      0.81   \n",
      "Perceptron                         0.79               0.70     0.70      0.78   \n",
      "LinearSVC                          0.82               0.69     0.69      0.81   \n",
      "LinearDiscriminantAnalysis         0.82               0.68     0.68      0.80   \n",
      "SGDClassifier                      0.82               0.67     0.67      0.80   \n",
      "RidgeClassifier                    0.81               0.65     0.65      0.78   \n",
      "RidgeClassifierCV                  0.81               0.65     0.65      0.78   \n",
      "GaussianNB                         0.80               0.64     0.64      0.77   \n",
      "QuadraticDiscriminantAnalysis      0.80               0.64     0.64      0.77   \n",
      "DummyClassifier                    0.63               0.50     0.50      0.63   \n",
      "\n",
      "                               Time Taken  \n",
      "Model                                      \n",
      "LGBMClassifier                       0.28  \n",
      "XGBClassifier                        0.51  \n",
      "RandomForestClassifier               1.30  \n",
      "AdaBoostClassifier                   0.63  \n",
      "NearestCentroid                      0.03  \n",
      "ExtraTreesClassifier                 1.40  \n",
      "BaggingClassifier                    0.49  \n",
      "DecisionTreeClassifier               0.11  \n",
      "KNeighborsClassifier                 2.43  \n",
      "BernoulliNB                          0.04  \n",
      "SVC                                  4.68  \n",
      "LabelSpreading                      16.40  \n",
      "LabelPropagation                     9.70  \n",
      "ExtraTreeClassifier                  0.05  \n",
      "PassiveAggressiveClassifier          0.03  \n",
      "LogisticRegression                   0.05  \n",
      "CalibratedClassifierCV               4.19  \n",
      "Perceptron                           0.03  \n",
      "LinearSVC                            0.95  \n",
      "LinearDiscriminantAnalysis           0.07  \n",
      "SGDClassifier                        0.09  \n",
      "RidgeClassifier                      0.03  \n",
      "RidgeClassifierCV                    0.04  \n",
      "GaussianNB                           0.04  \n",
      "QuadraticDiscriminantAnalysis        0.03  \n",
      "DummyClassifier                      0.04  \n"
     ]
    },
    {
     "name": "stderr",
     "output_type": "stream",
     "text": [
      "\n"
     ]
    }
   ],
   "source": [
    "import pickle\n",
    "from lazypredict.Supervised import LazyClassifier\n",
    "\n",
    "with open('data/ass2.pickle', 'rb') as handle:\n",
    "    data = pickle.load(handle)\n",
    "\n",
    "X_train, y_train = data['train']\n",
    "X_dev, y_dev = data['dev']\n",
    "\n",
    "clf = LazyClassifier(verbose=0,ignore_warnings=True, custom_metric=None)\n",
    "models,predictions = clf.fit(X_train, X_dev, y_train, y_dev)\n",
    "\n",
    "print(models)"
   ]
  }
 ],
 "metadata": {
  "interpreter": {
   "hash": "5edc29c2ed010d6458d71a83433b383a96a8cbd3efe8531bc90c4b8a5b8bcec9"
  },
  "kernelspec": {
   "display_name": "Python 3.8.9 64-bit",
   "language": "python",
   "name": "python3"
  },
  "language_info": {
   "codemirror_mode": {
    "name": "ipython",
    "version": 3
   },
   "file_extension": ".py",
   "mimetype": "text/x-python",
   "name": "python",
   "nbconvert_exporter": "python",
   "pygments_lexer": "ipython3",
   "version": "3.8.9"
  },
  "orig_nbformat": 4
 },
 "nbformat": 4,
 "nbformat_minor": 2
}
